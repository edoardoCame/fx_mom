{
 "cells": [
  {
   "cell_type": "markdown",
   "id": "title-cell",
   "metadata": {},
   "source": [
    "# 🏆 Portfolio Momentum: Winner Takes All Strategy\n",
    "\n",
    "Questa strategia implementa una logica di **momentum sui portafogli**: ogni venerdì, investe al 100% nel portafoglio che ha performato meglio (risk-adjusted) nella settimana appena conclusa.\n",
    "\n",
    "- **Tre portafogli candidati**: Commodities contrarian, Forex contrarian, TLT\n",
    "- **Selezione settimanale**: Winner-takes-all basato su Sharpe ratio settimanale\n",
    "- **No lookahead bias**: Decisione presa venerdì, applicata dal lunedì\n",
    "- **Visualizzazioni**: Equity curve + evoluzione pesi nel tempo\n",
    "\n",
    "---"
   ]
  },
  {
   "cell_type": "markdown",
   "id": "setup-header",
   "metadata": {},
   "source": [
    "## 📦 Setup e Importazioni"
   ]
  },
  {
   "cell_type": "code",
   "execution_count": null,
   "id": "setup-imports",
   "metadata": {},
   "outputs": [],
   "source": [
    "import sys, os\n",
    "import pandas as pd\n",
    "import numpy as np\n",
    "import matplotlib.pyplot as plt\n",
    "import seaborn as sns\n",
    "import yfinance as yf\n",
    "import warnings\n",
    "warnings.filterwarnings('ignore')\n",
    "\n",
    "sys.path.append(os.path.abspath(os.path.join(os.getcwd(), '..')))\n",
    "\n",
    "# Importa moduli core\n",
    "from core.commodity_momentum import (\n",
    "    generate_long_short_commodity_momentum_signals,\n",
    "    calculate_portfolio_performance\n",
    ")\n",
    "from core.data_loader import load_forex_data\n",
    "from core.signal_generator import generate_momentum_signals\n",
    "from core.backtest_engine import BacktestEngine\n",
    "\n",
    "plt.style.use('seaborn-v0_8')\n",
    "plt.rcParams['figure.figsize'] = (12, 8)\n",
    "plt.rcParams['font.size'] = 11\n",
    "print('✅ Setup completato!')"
   ]
  },
  {
   "cell_type": "markdown",
   "id": "data-header",
   "metadata": {},
   "source": [
    "## 📊 Caricamento Dati e Configurazione\n",
    "\n",
    "- Carichiamo i dati per commodities, forex e TLT\n",
    "- Impostiamo i parametri delle strategie contrarian"
   ]
  },
  {
   "cell_type": "code",
   "execution_count": null,
   "id": "data-loading",
   "metadata": {},
   "outputs": [],
   "source": [
    "# Parametri strategia\n",
    "lookback_commodities = 30\n",
    "commodities_top_n = 3\n",
    "lookback_forex = 30\n",
    "forex_top_n = 3\n",
    "rebalance_weekday = 4  # venerdì\n",
    "\n",
    "print(f\"Parametri strategia:\")\n",
    "print(f\"- Commodities: lookback {lookback_commodities}d, top {commodities_top_n}\")\n",
    "print(f\"- Forex: lookback {lookback_forex}d, top {forex_top_n}\")\n",
    "print(f\"- Rebalancing: Venerdì (weekday {rebalance_weekday})\")\n",
    "\n",
    "# Caricamento dati\n",
    "commodities_df = pd.read_parquet('../data/commodities_extended_data.parquet')\n",
    "forex_df = load_forex_data('../data/forex_extended_data.parquet')\n",
    "\n",
    "print(f'\\n✅ Dati caricati:')\n",
    "print(f'✅ Commodities: {commodities_df.shape[0]} giorni, {commodities_df.shape[1]} colonne')\n",
    "print(f'✅ Forex: shape da BacktestEngine')"
   ]
  },
  {
   "cell_type": "markdown",
   "id": "signals-header",
   "metadata": {},
   "source": [
    "## 🔄 Generazione Segnali Contrarian e Portfolio\n",
    "\n",
    "- Generiamo i segnali contrarian per commodities e forex\n",
    "- Calcoliamo le equity curve dei tre portafogli candidati"
   ]
  },
  {
   "cell_type": "code",
   "execution_count": null,
   "id": "signal-generation",
   "metadata": {},
   "outputs": [],
   "source": [
    "# Segnali contrarian commodities\n",
    "signals_momentum_commodities = generate_long_short_commodity_momentum_signals(\n",
    "    commodities_df, lookback_days=lookback_commodities, top_n=commodities_top_n, rebalance_weekday=rebalance_weekday\n",
    ")\n",
    "signals_contrarian_commodities = signals_momentum_commodities * -1\n",
    "\n",
    "# Segnali contrarian forex\n",
    "signals_momentum_forex = generate_momentum_signals(\n",
    "    price_data=forex_df,\n",
    "    lookback_days=lookback_forex,\n",
    "    top_n=forex_top_n,\n",
    "    rebalance_freq='weekly'\n",
    ")\n",
    "signals_contrarian_forex = signals_momentum_forex * -1\n",
    "\n",
    "print('✅ Segnali contrarian generati per commodities e forex!')"
   ]
  },
  {
   "cell_type": "markdown",
   "id": "backtest-header",
   "metadata": {},
   "source": [
    "## 🚀 Backtest Strategie e Caricamento TLT\n",
    "\n",
    "- Eseguiamo il backtest delle strategie contrarian\n",
    "- Carichiamo i dati TLT per completare i tre portafogli candidati"
   ]
  },
  {
   "cell_type": "code",
   "execution_count": null,
   "id": "backtest-execution",
   "metadata": {},
   "outputs": [],
   "source": [
    "# Backtest commodities contrarian\n",
    "contrarian_equity_commodities = calculate_portfolio_performance(signals_contrarian_commodities, commodities_df)\n",
    "contrarian_returns_commodities = contrarian_equity_commodities.pct_change().fillna(0)\n",
    "\n",
    "# Backtest forex contrarian\n",
    "engine_contrarian_forex = BacktestEngine(initial_capital=100000, leverage=1.0)\n",
    "results_contrarian_forex = engine_contrarian_forex.run_backtest(forex_df, signals_contrarian_forex, verbose=False)\n",
    "contrarian_equity_forex = engine_contrarian_forex.portfolio_value\n",
    "contrarian_returns_forex = engine_contrarian_forex.portfolio_returns\n",
    "\n",
    "# Caricamento dati TLT\n",
    "commodities_start = contrarian_equity_commodities.index[0]\n",
    "commodities_end = contrarian_equity_commodities.index[-1]\n",
    "forex_start = contrarian_equity_forex.index[0] \n",
    "forex_end = contrarian_equity_forex.index[-1]\n",
    "\n",
    "tlt_start = min(commodities_start, forex_start)\n",
    "tlt_end = max(commodities_end, forex_end)\n",
    "\n",
    "print(f\"Scaricando TLT dal {tlt_start.strftime('%Y-%m-%d')} al {tlt_end.strftime('%Y-%m-%d')}\")\n",
    "\n",
    "tlt_data = yf.download('TLT', start=tlt_start, end=tlt_end, progress=False)\n",
    "if 'Adj Close' in tlt_data.columns:\n",
    "    tlt_prices = tlt_data['Adj Close']\n",
    "else:\n",
    "    tlt_prices = tlt_data['Close']\n",
    "\n",
    "if tlt_prices.index.tz:\n",
    "    tlt_prices.index = tlt_prices.index.tz_localize(None)\n",
    "\n",
    "tlt_equity = tlt_prices / tlt_prices.iloc[0]\n",
    "tlt_returns = tlt_equity.pct_change().fillna(0)\n",
    "\n",
    "print(f\"✅ TLT scaricato: {len(tlt_prices)} giorni dal {tlt_prices.index[0]} al {tlt_prices.index[-1]}\")\n",
    "print('✅ Backtest completato per tutte le strategie!')"
   ]
  },
  {
   "cell_type": "markdown",
   "id": "cvev1qli55c",
   "metadata": {},
   "source": [
    "## 📐 Allineamento Dati e Preparazione Portfolio\n",
    "\n",
    "- Allineiamo le tre equity curve alle date comuni\n",
    "- Normalizziamo tutte le curve a partire da 1.0"
   ]
  },
  {
   "cell_type": "code",
   "execution_count": null,
   "id": "9c7wjsalrnq",
   "metadata": {},
   "outputs": [],
   "source": "# Rimuovi i fusi orari dagli indici per allineare le date\ncommodities_idx = contrarian_equity_commodities.index.tz_localize(None) if contrarian_equity_commodities.index.tz else contrarian_equity_commodities.index\nforex_idx = contrarian_equity_forex.index.tz_localize(None) if contrarian_equity_forex.index.tz else contrarian_equity_forex.index\ntlt_idx = tlt_equity.index.tz_localize(None) if tlt_equity.index.tz else tlt_equity.index\n\ncommodities_eq = pd.Series(contrarian_equity_commodities.values, index=commodities_idx)\nforex_eq = pd.Series(contrarian_equity_forex.values, index=forex_idx)\n\n# Fix per TLT: gestione dimensionalità\nif isinstance(tlt_equity, pd.Series):\n    tlt_eq = tlt_equity.copy()\n    tlt_eq.index = tlt_idx\nelse:\n    tlt_values = tlt_equity.values.flatten() if tlt_equity.values.ndim > 1 else tlt_equity.values\n    tlt_eq = pd.Series(tlt_values, index=tlt_idx)\n\n# Trova il periodo comune tra tutti e tre gli asset\nstart_date = max(commodities_eq.index[0], forex_eq.index[0], tlt_eq.index[0])\nend_date = min(commodities_eq.index[-1], forex_eq.index[-1], tlt_eq.index[-1])\n\nprint(f\"Periodo combinato: {start_date} → {end_date}\")\n\n# Filtra per il periodo comune\ncommodities_eq = commodities_eq.loc[start_date:end_date]\nforex_eq = forex_eq.loc[start_date:end_date]\ntlt_eq = tlt_eq.loc[start_date:end_date]\n\n# Allinea le date (intersection di tutti e tre)\ncommon_dates = commodities_eq.index.intersection(forex_eq.index).intersection(tlt_eq.index)\nprint(f\"Date comuni trovate: {len(common_dates)}\")\n\ncommodities_eq = commodities_eq.loc[common_dates]\nforex_eq = forex_eq.loc[common_dates]\ntlt_eq = tlt_eq.loc[common_dates]\n\n# Normalizza tutte le equity curve a 1 all'inizio\ncommodities_eq_norm = commodities_eq / commodities_eq.iloc[0]\nforex_eq_norm = forex_eq / forex_eq.iloc[0]\ntlt_eq_norm = tlt_eq / tlt_eq.iloc[0]\n\nprint(\"✅ Tre portafogli allineati:\")\nprint(f\"✅ Commodities: {len(commodities_eq_norm)} giorni\")\nprint(f\"✅ Forex: {len(forex_eq_norm)} giorni\")\nprint(f\"✅ TLT: {len(tlt_eq_norm)} giorni\")\nprint(f\"✅ Periodo: {common_dates[0].strftime('%Y-%m-%d')} → {common_dates[-1].strftime('%Y-%m-%d')}\")"
  },
  {
   "cell_type": "markdown",
   "id": "jlv7tex3rp",
   "source": "## 🏆 Winner-Takes-All Portfolio Momentum Strategy\n\n- **Logica**: Ogni venerdì, investi al 100% nel portafoglio con miglior Sharpe ratio settimanale\n- **Metrica**: Risk-adjusted return (rendimento settimanale / volatilità rolling 30d)\n- **Applicazione**: Dal lunedì successivo per tutta la settimana (no lookahead bias)",
   "metadata": {}
  },
  {
   "cell_type": "code",
   "id": "69tittwhm9",
   "source": "# Crea DataFrame con le tre equity curve per facilità di calcolo\nportfolios_df = pd.DataFrame({\n    'Commodities': commodities_eq_norm,\n    'Forex': forex_eq_norm,\n    'TLT': tlt_eq_norm\n}, index=common_dates)\n\n# Calcola i rendimenti giornalieri\nportfolios_returns = portfolios_df.pct_change().fillna(0)\n\n# Parametri strategia\nvolatility_window = 30  # giorni per rolling volatility\nrisk_free_rate = 0.02   # 2% annuale per Sharpe ratio\n\nprint(f\"Portfolio DataFrame creato: {portfolios_df.shape}\")\nprint(\"Primi 5 giorni:\")\nprint(portfolios_df.head())\n\n# Trova tutti i venerdì per il rebalancing\nrebalance_dates = common_dates[common_dates.weekday == 4]  # Venerdì\nprint(f\"\\n✅ Date di rebalancing (venerdì): {len(rebalance_dates)}\")\nprint(f\"Prima: {rebalance_dates[0].strftime('%Y-%m-%d')}, Ultima: {rebalance_dates[-1].strftime('%Y-%m-%d')}\")",
   "metadata": {},
   "execution_count": null,
   "outputs": []
  },
  {
   "cell_type": "code",
   "id": "f7eudc3l3ag",
   "source": "# Implementazione algoritmo Winner-Takes-All\ndef calculate_risk_adjusted_performance(returns_series, window=5):\n    \"\"\"\n    Calcola performance risk-adjusted per una finestra di giorni.\n    Usa rendimento medio / volatilità come metrica.\n    \"\"\"\n    if len(returns_series) < window:\n        return np.nan\n    \n    weekly_returns = returns_series.tail(window)\n    mean_return = weekly_returns.mean()\n    volatility = weekly_returns.std()\n    \n    if volatility == 0 or np.isnan(volatility):\n        return mean_return  # Se no volatilità, usa solo il rendimento\n    \n    return mean_return / volatility\n\n# Dizionari per tracciare la strategia\nselected_portfolio = {}  # {date: 'portfolio_name'}\nperformance_metrics = {}  # {date: {'Commodities': score, 'Forex': score, 'TLT': score}}\nweekly_allocations = []  # Lista per tracking evoluzione pesi\n\nprint(\"🔍 Implementando algoritmo di selezione settimanale...\")\n\n# Loop attraverso tutte le date di rebalancing\nfor i, rebalance_date in enumerate(rebalance_dates):\n    if i == 0:\n        # Prima settimana: inizia con TLT (asset più stabile)\n        winner = 'TLT'\n        print(f\"Prima settimana ({rebalance_date.strftime('%Y-%m-%d')}): Inizia con {winner}\")\n    else:\n        # Calcola performance della settimana appena conclusa (5 giorni lavorativi)\n        # Trova la settimana precedente (da lunedì a venerdì)\n        prev_week_end = rebalance_date\n        prev_week_start = prev_week_end - pd.Timedelta(days=4)  # 5 giorni lavorativi\n        \n        # Filtra solo i giorni lavorativi nella settimana precedente\n        week_dates = common_dates[(common_dates >= prev_week_start) & (common_dates <= prev_week_end)]\n        \n        if len(week_dates) >= 3:  # Almeno 3 giorni per calcolo affidabile\n            scores = {}\n            for portfolio_name in portfolios_returns.columns:\n                week_returns = portfolios_returns.loc[week_dates, portfolio_name]\n                scores[portfolio_name] = calculate_risk_adjusted_performance(week_returns, window=len(week_returns))\n            \n            # Seleziona il portfolio con score più alto\n            winner = max(scores, key=scores.get)\n            performance_metrics[rebalance_date] = scores\n            \n            if i <= 5:  # Mostra primi 5 per debug\n                print(f\"{rebalance_date.strftime('%Y-%m-%d')}: Scores = {scores}, Winner = {winner}\")\n        else:\n            # Non abbastanza dati, mantieni selezione precedente\n            winner = list(selected_portfolio.values())[-1] if selected_portfolio else 'TLT'\n    \n    selected_portfolio[rebalance_date] = winner\n    \n    # Trova la data di applicazione (lunedì successivo)\n    application_start = rebalance_date + pd.Timedelta(days=1)\n    while application_start.weekday() > 4:  # Skip weekend\n        application_start += pd.Timedelta(days=1)\n    \n    # Trova la fine della settimana di applicazione\n    next_rebalance_idx = i + 1\n    if next_rebalance_idx < len(rebalance_dates):\n        application_end = rebalance_dates[next_rebalance_idx]\n    else:\n        application_end = common_dates[-1]\n    \n    # Registra allocazione per la settimana\n    weekly_allocations.append({\n        'rebalance_date': rebalance_date,\n        'application_start': application_start,\n        'application_end': application_end,\n        'selected_portfolio': winner,\n        'Commodities': 1.0 if winner == 'Commodities' else 0.0,\n        'Forex': 1.0 if winner == 'Forex' else 0.0,\n        'TLT': 1.0 if winner == 'TLT' else 0.0\n    })\n\nweekly_allocations_df = pd.DataFrame(weekly_allocations)\nprint(f\"\\n✅ Algoritmo completato: {len(selected_portfolio)} decisioni di rebalancing\")\nprint(\"✅ Prime 3 selezioni:\")\nfor i, (date, portfolio) in enumerate(list(selected_portfolio.items())[:3]):\n    print(f\"  {date.strftime('%Y-%m-%d')}: {portfolio}\")",
   "metadata": {},
   "execution_count": null,
   "outputs": []
  },
  {
   "cell_type": "code",
   "id": "828b1yfy41",
   "source": "# Costruzione equity curve della strategia Winner-Takes-All\nprint(\"📈 Costruendo equity curve della strategia momentum...\")\n\n# Crea serie temporale con allocazioni giornaliere\ndaily_allocations = pd.DataFrame(index=common_dates, columns=['Commodities', 'Forex', 'TLT'])\ndaily_allocations = daily_allocations.fillna(0.0)\n\n# Applica le allocazioni settimanali\nfor allocation in weekly_allocations:\n    start_date = allocation['application_start']\n    end_date = allocation['application_end']\n    selected = allocation['selected_portfolio']\n    \n    # Trova le date effettive nell'intervallo\n    mask = (daily_allocations.index >= start_date) & (daily_allocations.index <= end_date)\n    application_dates = daily_allocations.index[mask]\n    \n    if len(application_dates) > 0:\n        # Imposta allocazione al 100% per il portafoglio selezionato\n        daily_allocations.loc[application_dates, :] = 0.0\n        daily_allocations.loc[application_dates, selected] = 1.0\n\n# Verifica allocazioni\nprint(\"Controllo allocazioni:\")\nprint(f\"Somma allocazioni (dovrebbe essere sempre 1.0): {daily_allocations.sum(axis=1).describe()}\")\nprint(\"Prime 10 allocazioni:\")\nprint(daily_allocations.head(10))\n\n# Calcola equity curve della strategia momentum\nmomentum_portfolio_values = []\n\nfor date in common_dates:\n    if date in daily_allocations.index:\n        weights = daily_allocations.loc[date]\n        portfolio_value = (\n            weights['Commodities'] * commodities_eq_norm.loc[date] +\n            weights['Forex'] * forex_eq_norm.loc[date] +\n            weights['TLT'] * tlt_eq_norm.loc[date]\n        )\n        momentum_portfolio_values.append(portfolio_value)\n    else:\n        # Fallback: usa valore precedente o 1.0\n        momentum_portfolio_values.append(momentum_portfolio_values[-1] if momentum_portfolio_values else 1.0)\n\nmomentum_equity = pd.Series(momentum_portfolio_values, index=common_dates)\nmomentum_returns = momentum_equity.pct_change().fillna(0)\n\nprint(f\"\\n✅ Strategia momentum costruita:\")\nprint(f\"✅ Equity finale: {momentum_equity.iloc[-1]:.3f}\")\nprint(f\"✅ Rendimento totale: {(momentum_equity.iloc[-1] - 1) * 100:.2f}%\")\nprint(f\"✅ Rendimento annualizzato: {((momentum_equity.iloc[-1] ** (252 / len(momentum_equity))) - 1) * 100:.2f}%\")",
   "metadata": {},
   "execution_count": null,
   "outputs": []
  },
  {
   "cell_type": "markdown",
   "id": "39xvjy12o24",
   "source": "## 📊 Visualizzazioni: Equity Curve e Evoluzione Pesi\n\n- **Chart 1**: Confronto equity curve strategia momentum vs portafogli individuali\n- **Chart 2**: Evoluzione pesi nel tempo - quale portafoglio è selezionato ogni settimana",
   "metadata": {}
  },
  {
   "cell_type": "code",
   "id": "r2o36j7kki",
   "source": "# Grafico 1: Equity Curves Comparison\nfig, (ax1, ax2) = plt.subplots(2, 1, figsize=(15, 12))\n\n# Top chart: Equity curves\nax1.plot(commodities_eq_norm.index, commodities_eq_norm.values, \n         label='Commodities Contrarian', color='orange', linewidth=2, alpha=0.7)\nax1.plot(forex_eq_norm.index, forex_eq_norm.values, \n         label='Forex Contrarian', color='green', linewidth=2, alpha=0.7)\nax1.plot(tlt_eq_norm.index, tlt_eq_norm.values, \n         label='TLT', color='purple', linewidth=2, alpha=0.7)\nax1.plot(momentum_equity.index, momentum_equity.values, \n         label='🏆 Winner-Takes-All Momentum', color='red', linewidth=3)\n\n# Equal weight benchmark\nequal_weight_equity = (commodities_eq_norm + forex_eq_norm + tlt_eq_norm) / 3\nax1.plot(equal_weight_equity.index, equal_weight_equity.values, \n         label='Equal Weight (33% each)', color='black', linewidth=2, linestyle='--', alpha=0.6)\n\nax1.set_title('🏆 Portfolio Momentum Strategy vs Individual Portfolios', fontsize=16, fontweight='bold')\nax1.set_ylabel('Equity (normalized to 1.0)')\nax1.legend(loc='upper left')\nax1.grid(True, alpha=0.3)\n\n# Bottom chart: Weight Evolution\n# Crea grafico a area stackata per mostrare l'evoluzione dei pesi\ncolors = ['orange', 'green', 'purple']\nax2.fill_between(daily_allocations.index, 0, daily_allocations['Commodities'], \n                 alpha=0.7, color=colors[0], label='Commodities')\nax2.fill_between(daily_allocations.index, daily_allocations['Commodities'], \n                 daily_allocations['Commodities'] + daily_allocations['Forex'],\n                 alpha=0.7, color=colors[1], label='Forex')\nax2.fill_between(daily_allocations.index, \n                 daily_allocations['Commodities'] + daily_allocations['Forex'],\n                 daily_allocations['Commodities'] + daily_allocations['Forex'] + daily_allocations['TLT'],\n                 alpha=0.7, color=colors[2], label='TLT')\n\nax2.set_title('📊 Portfolio Allocation Evolution (Winner-Takes-All)', fontsize=14, fontweight='bold')\nax2.set_ylabel('Allocation Weight')\nax2.set_xlabel('Date')\nax2.set_ylim(0, 1)\nax2.legend(loc='upper right')\nax2.grid(True, alpha=0.3)\n\nplt.tight_layout()\nplt.show()\n\nprint(\"✅ Visualizzazioni create!\")",
   "metadata": {},
   "execution_count": null,
   "outputs": []
  },
  {
   "cell_type": "markdown",
   "id": "884zloat2y3",
   "source": "## 📈 Analisi Performance e Metriche Comparative\n\n- **Confronto**: Strategia momentum vs portafogli individuali vs equal weight\n- **Metriche**: Sharpe, Sortino, Max Drawdown, Calmar Ratio, Volatilità",
   "metadata": {}
  },
  {
   "cell_type": "code",
   "id": "kv20x8ea72r",
   "source": "# Funzione per calcolare metriche di performance\ndef calculate_performance_metrics(equity_series, returns_series):\n    \"\"\"\n    Calcola un set completo di metriche di performance.\n    \"\"\"\n    metrics = {}\n    \n    # Basic returns\n    total_return = (equity_series.iloc[-1] - 1) * 100\n    annualized_return = ((equity_series.iloc[-1] ** (252 / len(equity_series))) - 1) * 100\n    \n    # Volatility\n    volatility = returns_series.std() * np.sqrt(252) * 100\n    \n    # Sharpe ratio (assume 2% risk-free rate)\n    excess_returns = returns_series - (0.02 / 252)\n    sharpe = excess_returns.mean() / returns_series.std() * np.sqrt(252) if returns_series.std() > 0 else 0\n    \n    # Sortino ratio (downside deviation)\n    downside_returns = returns_series[returns_series < 0]\n    downside_dev = downside_returns.std() * np.sqrt(252) if len(downside_returns) > 0 else 0\n    sortino = excess_returns.mean() / (downside_dev / np.sqrt(252)) if downside_dev > 0 else 0\n    \n    # Maximum drawdown\n    rolling_max = equity_series.cummax()\n    drawdown = (equity_series / rolling_max - 1) * 100\n    max_drawdown = drawdown.min()\n    \n    # Calmar ratio\n    calmar = annualized_return / abs(max_drawdown) if max_drawdown != 0 else 0\n    \n    # Win rate\n    win_rate = len(returns_series[returns_series > 0]) / len(returns_series) * 100\n    \n    return {\n        'Total Return (%)': total_return,\n        'Annualized Return (%)': annualized_return,\n        'Volatility (%)': volatility,\n        'Sharpe Ratio': sharpe,\n        'Sortino Ratio': sortino,\n        'Max Drawdown (%)': max_drawdown,\n        'Calmar Ratio': calmar,\n        'Win Rate (%)': win_rate\n    }\n\n# Calcola metriche per tutte le strategie\nstrategies = {\n    'Winner-Takes-All': (momentum_equity, momentum_returns),\n    'Equal Weight': (equal_weight_equity, equal_weight_equity.pct_change().fillna(0)),\n    'Commodities Only': (commodities_eq_norm, commodities_eq_norm.pct_change().fillna(0)),\n    'Forex Only': (forex_eq_norm, forex_eq_norm.pct_change().fillna(0)),\n    'TLT Only': (tlt_eq_norm, tlt_eq_norm.pct_change().fillna(0))\n}\n\nperformance_results = {}\nfor strategy_name, (equity, returns) in strategies.items():\n    performance_results[strategy_name] = calculate_performance_metrics(equity, returns)\n\n# Crea DataFrame per visualizzazione\nperformance_df = pd.DataFrame(performance_results).T\n\nprint('📊 PERFORMANCE COMPARISON - WINNER TAKES ALL STRATEGY')\nprint('=' * 90)\nprint(performance_df.round(2))\nprint('=' * 90)\n\n# Evidenzia i migliori risultati per categoria\nprint('\\n🏆 BEST PERFORMERS PER METRICA:')\nfor metric in performance_df.columns:\n    if 'Drawdown' in metric:\n        best = performance_df[metric].idxmax()  # Less negative is better for drawdown\n    else:\n        best = performance_df[metric].idxmax()\n    print(f'{metric:<25}: {best} ({performance_df.loc[best, metric]:.2f})')",
   "metadata": {},
   "execution_count": null,
   "outputs": []
  },
  {
   "cell_type": "markdown",
   "id": "ed7znvp9tv",
   "source": "## 🎯 Analisi Frequenza Selezioni e Statistiche Avanzate\n\n- **Selection Frequency**: Quante volte ogni portafoglio è stato selezionato\\n- **Streak Analysis**: Periodi consecutivi di selezione dello stesso portafoglio\\n- **Turnover**: Frequenza di cambio portafoglio",
   "metadata": {}
  },
  {
   "cell_type": "code",
   "id": "6tj6exgrixq",
   "source": "# Analisi frequenza selezioni\nselection_counts = weekly_allocations_df['selected_portfolio'].value_counts()\nselection_percentages = (selection_counts / len(weekly_allocations_df) * 100).round(1)\n\nprint('📊 ANALISI FREQUENZA SELEZIONI')\nprint('=' * 50)\nfor portfolio, count in selection_counts.items():\n    percentage = selection_percentages[portfolio]\n    print(f'{portfolio:<15}: {count:3d} settimane ({percentage:5.1f}%)')\nprint('=' * 50)\n\n# Streak Analysis\ndef analyze_streaks(selections):\n    \"\"\"\n    Analizza i periodi consecutivi di selezione dello stesso portafoglio.\n    \"\"\"\n    streaks = []\n    current_portfolio = None\n    current_streak = 0\n    \n    for portfolio in selections:\n        if portfolio == current_portfolio:\n            current_streak += 1\n        else:\n            if current_streak > 0:\n                streaks.append((current_portfolio, current_streak))\n            current_portfolio = portfolio\n            current_streak = 1\n    \n    # Aggiungi l'ultimo streak\n    if current_streak > 0:\n        streaks.append((current_portfolio, current_streak))\n    \n    return streaks\n\nstreaks = analyze_streaks(weekly_allocations_df['selected_portfolio'].tolist())\n\nprint('\\n🔥 STREAK ANALYSIS (Periodi consecutivi)')\nprint('=' * 50)\nprint(f'Total streaks: {len(streaks)}')\n\n# Raggruppa per portafoglio\nstreak_stats = {}\nfor portfolio, length in streaks:\n    if portfolio not in streak_stats:\n        streak_stats[portfolio] = []\n    streak_stats[portfolio].append(length)\n\nfor portfolio in ['Commodities', 'Forex', 'TLT']:\n    if portfolio in streak_stats:\n        lengths = streak_stats[portfolio]\n        avg_streak = np.mean(lengths)\n        max_streak = max(lengths)\n        print(f'{portfolio:<15}: Avg {avg_streak:.1f} settimane, Max {max_streak} settimane')\n    else:\n        print(f'{portfolio:<15}: Nessun periodo selezionato')\n\n# Turnover analysis\nchanges = 0\nfor i in range(1, len(weekly_allocations_df)):\n    if weekly_allocations_df.iloc[i]['selected_portfolio'] != weekly_allocations_df.iloc[i-1]['selected_portfolio']:\n        changes += 1\n\nturnover_rate = changes / (len(weekly_allocations_df) - 1) * 100\n\nprint(f'\\n💱 TURNOVER ANALYSIS')\nprint('=' * 50)\nprint(f'Portfolio changes: {changes} su {len(weekly_allocations_df)-1} possibili')\nprint(f'Turnover rate: {turnover_rate:.1f}%')\nprint(f'Avg holding period: {(100/turnover_rate):.1f} settimane' if turnover_rate > 0 else 'N/A')\n\n# Visualizzazione grafico a torta delle selezioni\nfig, (ax1, ax2) = plt.subplots(1, 2, figsize=(15, 6))\n\n# Pie chart delle selezioni\ncolors_pie = ['orange', 'green', 'purple']\nwedges, texts, autotexts = ax1.pie(selection_counts.values, labels=selection_counts.index, \n                                   autopct='%1.1f%%', colors=colors_pie, startangle=90)\nax1.set_title('📊 Portfolio Selection Frequency\\n(Winner-Takes-All Strategy)', fontweight='bold')\n\n# Bar chart dei turnover per periodo\n# Calcola turnover rolling su finestre di 52 settimane\nif len(weekly_allocations_df) >= 52:\n    rolling_turnover = []\n    window = 52\n    \n    for i in range(window, len(weekly_allocations_df)):\n        window_data = weekly_allocations_df.iloc[i-window:i]\n        window_changes = 0\n        for j in range(1, len(window_data)):\n            if window_data.iloc[j]['selected_portfolio'] != window_data.iloc[j-1]['selected_portfolio']:\n                window_changes += 1\n        rolling_turnover.append(window_changes / (window-1) * 100)\n    \n    rolling_dates = weekly_allocations_df['rebalance_date'].iloc[window:]\n    ax2.plot(rolling_dates, rolling_turnover, color='red', linewidth=2)\n    ax2.set_title('📈 Rolling Turnover Rate (52-week window)', fontweight='bold')\n    ax2.set_ylabel('Turnover Rate (%)')\n    ax2.set_xlabel('Date')\n    ax2.grid(True, alpha=0.3)\nelse:\n    ax2.text(0.5, 0.5, 'Not enough data\\nfor rolling turnover', \n             ha='center', va='center', transform=ax2.transAxes, fontsize=12)\n    ax2.set_title('Rolling Turnover Rate', fontweight='bold')\n\nplt.tight_layout()\nplt.show()\n\nprint('\\n✅ Analisi completa terminata!')",
   "metadata": {},
   "execution_count": null,
   "outputs": []
  }
 ],
 "metadata": {
  "kernelspec": {
   "display_name": ".venv",
   "language": "python",
   "name": "python3"
  },
  "language_info": {
   "codemirror_mode": {
    "name": "ipython",
    "version": 3
   },
   "file_extension": ".py",
   "mimetype": "text/x-python",
   "name": "python",
   "nbconvert_exporter": "python",
   "pygments_lexer": "ipython3",
   "version": "3.13.3"
  }
 },
 "nbformat": 4,
 "nbformat_minor": 5
}